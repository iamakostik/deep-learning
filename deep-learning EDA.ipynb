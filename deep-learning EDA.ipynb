{
 "cells": [
  {
   "cell_type": "code",
   "execution_count": null,
   "id": "a31bf86f",
   "metadata": {
    "ExecuteTime": {
     "start_time": "2022-02-22T20:09:52.601Z"
    }
   },
   "outputs": [],
   "source": [
    "#import the libraries to carry out EDA\n",
    "\n",
    "import numpy as np\n",
    "import pandas as pd\n",
    "import matplotlib.pyplot as plt\n",
    "import seaborn as sns\n",
    "%matplotlib inline"
   ]
  },
  {
   "cell_type": "code",
   "execution_count": null,
   "id": "7c18beec",
   "metadata": {
    "ExecuteTime": {
     "start_time": "2022-02-22T20:09:55.719Z"
    }
   },
   "outputs": [],
   "source": [
    "#load the dataset\n",
    "\n",
    "fundamentals_df = pd.read_csv('fundamentals.csv')\n",
    "prices_df = pd.read_csv('prices.csv')\n",
    "psa_df = pd.read_csv('prices-split-adjusted.csv')\n",
    "securities_df = pd.read_csv('securities.csv')"
   ]
  },
  {
   "cell_type": "code",
   "execution_count": null,
   "id": "fb12b631",
   "metadata": {
    "ExecuteTime": {
     "start_time": "2022-02-22T20:09:57.037Z"
    }
   },
   "outputs": [],
   "source": [
    "fundamentals_df.head()"
   ]
  },
  {
   "cell_type": "code",
   "execution_count": null,
   "id": "4b7a2169",
   "metadata": {
    "ExecuteTime": {
     "start_time": "2022-02-21T14:55:25.511Z"
    }
   },
   "outputs": [],
   "source": [
    "fundamentals_df.info()"
   ]
  },
  {
   "cell_type": "code",
   "execution_count": null,
   "id": "0768b118",
   "metadata": {
    "ExecuteTime": {
     "start_time": "2022-02-21T14:55:31.745Z"
    }
   },
   "outputs": [],
   "source": [
    "#checking for the total number of companies in fundamentals_df\n",
    "\n",
    "len(pd.unique(fundamentals_df['Ticker Symbol']))"
   ]
  },
  {
   "cell_type": "code",
   "execution_count": null,
   "id": "414f38c1",
   "metadata": {
    "ExecuteTime": {
     "start_time": "2022-02-21T14:55:32.431Z"
    },
    "scrolled": true
   },
   "outputs": [],
   "source": [
    "fundamentals_df[['Ticker Symbol','Total Revenue']] \\\n",
    "                        .groupby(['Ticker Symbol']).sum()\\\n",
    "                        .sort_values(['Total Revenue'],ascending=False)"
   ]
  },
  {
   "cell_type": "code",
   "execution_count": null,
   "id": "f7b183cf",
   "metadata": {
    "ExecuteTime": {
     "start_time": "2022-02-21T14:55:32.951Z"
    }
   },
   "outputs": [],
   "source": [
    "securities_df.head()"
   ]
  },
  {
   "cell_type": "code",
   "execution_count": null,
   "id": "f547e07d",
   "metadata": {
    "ExecuteTime": {
     "start_time": "2022-02-21T14:55:33.382Z"
    }
   },
   "outputs": [],
   "source": [
    "prices_df.head()"
   ]
  },
  {
   "cell_type": "code",
   "execution_count": null,
   "id": "20e189dd",
   "metadata": {
    "ExecuteTime": {
     "start_time": "2022-02-21T14:55:33.595Z"
    }
   },
   "outputs": [],
   "source": [
    "psa_df.head()"
   ]
  },
  {
   "cell_type": "code",
   "execution_count": null,
   "id": "2126e921",
   "metadata": {
    "ExecuteTime": {
     "start_time": "2022-02-21T14:55:33.869Z"
    }
   },
   "outputs": [],
   "source": [
    "print(fundamentals_df.shape)\n",
    "fundamentals_df.isna().sum()"
   ]
  },
  {
   "cell_type": "code",
   "execution_count": null,
   "id": "fbd51734",
   "metadata": {
    "ExecuteTime": {
     "start_time": "2022-02-21T14:55:34.222Z"
    }
   },
   "outputs": [],
   "source": [
    "print(fundamentals_df.skew().to_string())"
   ]
  },
  {
   "cell_type": "code",
   "execution_count": null,
   "id": "8a9f0d6e",
   "metadata": {
    "ExecuteTime": {
     "start_time": "2022-02-21T14:55:34.894Z"
    }
   },
   "outputs": [],
   "source": [
    "print(fundamentals_df.kurtosis().to_string())"
   ]
  },
  {
   "cell_type": "code",
   "execution_count": null,
   "id": "955b76dd",
   "metadata": {
    "ExecuteTime": {
     "start_time": "2022-02-21T14:55:35.677Z"
    }
   },
   "outputs": [],
   "source": [
    "features = ['Total Assets', 'Total Current Assets', 'Total Current Liabilities', 'Total Equity', 'Total Liabilities','Total Liabilities & Equity','Total Revenue',] # create a list of all numerical features\n",
    "fundamentals_df[features].hist(figsize=(20,20))\n",
    "\n",
    "plt.show()"
   ]
  },
  {
   "cell_type": "code",
   "execution_count": null,
   "id": "b8d2a0f3",
   "metadata": {
    "ExecuteTime": {
     "start_time": "2022-02-21T14:55:36.515Z"
    }
   },
   "outputs": [],
   "source": [
    "fundamentals_df[features].plot(kind='density', subplots=True, layout=(3, 3), sharex=False, figsize=(20, 20));"
   ]
  },
  {
   "cell_type": "code",
   "execution_count": null,
   "id": "a8d7ef88",
   "metadata": {
    "ExecuteTime": {
     "start_time": "2022-02-21T14:55:37.288Z"
    }
   },
   "outputs": [],
   "source": [
    "net_features = ['Net Borrowings','Net Cash Flow', 'Net Cash Flow-Operating','Net Cash Flows-Financing','Net Cash Flows-Investing','Net Income','Net Income Adjustments' ,'Net Income Applicable to Common Shareholders','Net Income-Cont. Operations','Net Receivables']\n",
    "\n",
    "fundamentals_df[net_features].plot(kind='density', subplots=True, layout=(4,3), sharex=False, figsize=(20, 20));"
   ]
  },
  {
   "cell_type": "code",
   "execution_count": null,
   "id": "eb69f95c",
   "metadata": {
    "ExecuteTime": {
     "start_time": "2022-02-21T14:55:38.375Z"
    }
   },
   "outputs": [],
   "source": [
    "plt.figure(figsize=(12,8))\n",
    "heatmap = sns.heatmap(fundamentals_df.corr(), vmin=-1, vmax=1, annot=True)\n",
    "heatmap.set_title('Correlation Heatmap for fundamentals dataset', fontdict={'fontsize':20}, pad=12);\n",
    "plt.show()"
   ]
  },
  {
   "cell_type": "code",
   "execution_count": null,
   "id": "09cf2ac1",
   "metadata": {
    "ExecuteTime": {
     "start_time": "2022-02-21T14:55:39.010Z"
    }
   },
   "outputs": [],
   "source": [
    "sns.scatterplot(x='Total Revenue',y='Net Income',hue='Estimated Shares Outstanding', data=fundamentals_df);"
   ]
  },
  {
   "cell_type": "code",
   "execution_count": null,
   "id": "68051826",
   "metadata": {
    "ExecuteTime": {
     "start_time": "2022-02-21T14:55:39.368Z"
    }
   },
   "outputs": [],
   "source": [
    "sns.set_style(\"whitegrid\");\n",
    "sns.pairplot(fundamentals_df, hue=\"Estimated Shares Outstanding\");\n",
    "plt.show();"
   ]
  },
  {
   "cell_type": "code",
   "execution_count": null,
   "id": "ee1d6e49",
   "metadata": {
    "ExecuteTime": {
     "start_time": "2022-02-21T14:55:40.287Z"
    }
   },
   "outputs": [],
   "source": [
    "sns.jointplot(x='Total Revenue',y='Net Income',hue='Estimated Shares Outstanding', data=fundamentals_df);\n",
    "\n",
    "plt.show()"
   ]
  },
  {
   "cell_type": "code",
   "execution_count": null,
   "id": "36e5733b",
   "metadata": {},
   "outputs": [],
   "source": []
  }
 ],
 "metadata": {
  "kernelspec": {
   "display_name": "Python 3 (ipykernel)",
   "language": "python",
   "name": "python3"
  },
  "language_info": {
   "codemirror_mode": {
    "name": "ipython",
    "version": 3
   },
   "file_extension": ".py",
   "mimetype": "text/x-python",
   "name": "python",
   "nbconvert_exporter": "python",
   "pygments_lexer": "ipython3",
   "version": "3.9.7"
  },
  "toc": {
   "base_numbering": 1,
   "nav_menu": {},
   "number_sections": true,
   "sideBar": true,
   "skip_h1_title": false,
   "title_cell": "Table of Contents",
   "title_sidebar": "Contents",
   "toc_cell": false,
   "toc_position": {},
   "toc_section_display": true,
   "toc_window_display": false
  }
 },
 "nbformat": 4,
 "nbformat_minor": 5
}
